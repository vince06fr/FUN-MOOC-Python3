{
 "cells": [
  {
   "cell_type": "markdown",
   "metadata": {},
   "source": [
    "# Programme Python Encodage"
   ]
  },
  {
   "cell_type": "markdown",
   "metadata": {},
   "source": [
    "Programme qui teste, au moment du lancement du programme, si l'encodage du poste de travail est bien *utl-8.\n",
    "\n",
    "Si ce n'est pas le cas, un pop-up apparaît pour signaler que ce n'est pas l'encodage le plus adapté et propose : \n",
    "- soit de laisser l'encodage courant (Annuler),\n",
    "- d'initialiser l'encodage utf-8 (OK).\n"
   ]
  },
  {
   "cell_type": "code",
   "execution_count": 11,
   "metadata": {},
   "outputs": [],
   "source": [
    "# Program for utf-8 character encoding test \n",
    "# when running python3 code \n",
    "\n",
    "# CC0 CopyLeft - JRelland January 2020\n",
    "# Tested on Python 3.8.0 on Windows 8.1 environment\n",
    "# HP Pavilion i3-4040U CPU @ 1.90 GHz x64 12,0 Go\n",
    "\n",
    "# ---------------------------------------------------\n",
    "\n",
    "# Modules installation\n",
    "import sys\n",
    "\n",
    "# \"utf-8\" endocing test\n",
    "if sys.getdefaultencoding() == \"utf-8\":\n",
    "    # Right encoding, no need to communicate with the user\n",
    "    pass\n",
    "else:\n",
    "    # Inform user its default encoding is not utf-8\n",
    "    # Propose alternative\n",
    "    #   Cancel : Keep your current encoding\n",
    "    #   OK     : Initialise utf-8 encoding\n",
    "    \n",
    "    # to learn and to do: MessageBox, caracter encoding declaration by python3 command\n",
    "    pass\n",
    "\n",
    "# Jan. 28, 2020 propose pull request \n"
   ]
  },
  {
   "cell_type": "markdown",
   "metadata": {},
   "source": [
    "Note au *21/01/2020*. La méthode employée, à ce stade du MOOC, pour la déclaration de l'encodage est avec la première ou seconde ligne qui est en commentaire :\n",
    "`# coding: utf-8`\n",
    "ou `# -*- coding: <utf-8> -*-`.\n",
    "\n",
    "Voir une commande en ligne de code pour cette déclaration.\n",
    "\n",
    "\n"
   ]
  }
 ],
 "metadata": {
  "kernelspec": {
   "display_name": "Python 3",
   "language": "python",
   "name": "python3"
  },
  "language_info": {
   "codemirror_mode": {
    "name": "ipython",
    "version": 3
   },
   "file_extension": ".py",
   "mimetype": "text/x-python",
   "name": "python",
   "nbconvert_exporter": "python",
   "pygments_lexer": "ipython3",
   "version": "3.7.4"
  }
 },
 "nbformat": 4,
 "nbformat_minor": 2
}
